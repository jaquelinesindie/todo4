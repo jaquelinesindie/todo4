{
 "cells": [
  {
   "cell_type": "markdown",
   "metadata": {},
   "source": [
    "<h1 align=\"center\"> To Do 4 - Contratado </h1>\n",
    "\n",
    "### Objetivo: Analisar os currículos cadastrados para vagas em uma empresa,  trazendo como resultado quantos estão concorrendo a cada vaga e o número de candidatos que possui as habilidades necessárias."
   ]
  },
  {
   "cell_type": "markdown",
   "metadata": {},
   "source": [
    "No código vão ser encontrados vários prints comentados que foram usados no decorrer do programa para fazer testes de funcionamento."
   ]
  },
  {
   "cell_type": "markdown",
   "metadata": {},
   "source": [
    "Função para contar a quantidade de candidatos contidos no txt, buscando o cálculo através da variável 'txt_string'"
   ]
  },
  {
   "cell_type": "code",
   "execution_count": 1,
   "metadata": {},
   "outputs": [],
   "source": [
    "def quantidadeCandidatos(num):\n",
    "    participantes = num.count('candidato(a)') #count funciona em strings\n",
    "    return f'A quantidade de candidatos a serem cadastrados é {participantes}'\n",
    "\n"
   ]
  },
  {
   "cell_type": "markdown",
   "metadata": {},
   "source": [
    "Função que separa o texto em listas de listas quando tiver a ocorrência da string 'candidato(a)'"
   ]
  },
  {
   "cell_type": "code",
   "execution_count": 2,
   "metadata": {},
   "outputs": [],
   "source": [
    "def split_list(lst, sep):\n",
    "    \n",
    "    return [i.split() for i in ' '.join(lst).split(sep)]\n"
   ]
  },
  {
   "cell_type": "markdown",
   "metadata": {},
   "source": [
    "Função para entrada dos dados em formato de listas de listas e transformação para um dicionário em que cada sub lista é alocada em uma chave diferente para extração da quantidade de analistas e cientistas do arquivo. Além de comparação com o dicionário das palavra chave para cada vaga."
   ]
  },
  {
   "cell_type": "code",
   "execution_count": 3,
   "metadata": {},
   "outputs": [],
   "source": [
    "def entrada(curriculo):\n",
    "    dictCandidatos = {}\n",
    "    palavraChaveAD = {'python':1,'power':1, 'sql':1, 'comunicação':1}\n",
    "    palavraChaveCD = {'python':1,'banco':1,'sql':1,'machine':1,'resolução':1,'estatística':1, 'r':1}\n",
    "    contAD = 0 # variável para contagem do número de analistas\n",
    "    contCD = 0 # variável para contagem do número de cientistas\n",
    "    habilidadesAD = 0 # Variável para contagem da recorrencia das habilidades requeridas\n",
    "    habilidadesCD = 0 # Variável para contagem da recorrencia das habilidades requeridas\n",
    "\n",
    "    for i in range(len(curriculo)):\n",
    "\n",
    "        dictCandidatos[i] = curriculo[i]\n",
    "    dictCandidatos.pop(0)\n",
    "    # return(dictCandidatos)\n",
    "    for i in dictCandidatos.keys():\n",
    "\n",
    "        if 'analista' in dictCandidatos.get(i):\n",
    "            contAD += 1\n",
    "            contExiste = 0 # Se existe uma das competencias\n",
    "            for i in dictCandidatos.get(i):\n",
    "                if i in palavraChaveAD: # Se a condição for verdadeira contExiste vai ser atribuido o valor 1\n",
    "                    contExiste = 1 \n",
    "            habilidadesAD+=contExiste\n",
    "            \n",
    "        elif 'cientista' in dictCandidatos.get(i):\n",
    "            contCD += 1\n",
    "            contExiste = 0\n",
    "            for i in dictCandidatos.get(i):\n",
    "                if i in palavraChaveCD:\n",
    "                            contExiste = 1 \n",
    "            habilidadesCD+=contExiste\n",
    "        \n",
    "    return(f'''A quantidade de Analista de Dados incritos é {contAD} e {habilidadesAD} deles tem as palavra chave que preenchem os requisitos da vaga\n",
    "        \\nA quantidade de Cientistas de Dados incritos é {contCD} e {habilidadesCD} com as palavra chave que preenchem os requisitos da vaga''')"
   ]
  },
  {
   "cell_type": "markdown",
   "metadata": {},
   "source": [
    "Iniciando chamando as variáveis globais a serem usadas no código."
   ]
  },
  {
   "cell_type": "code",
   "execution_count": 4,
   "metadata": {},
   "outputs": [],
   "source": [
    "txt_string = '' # Armazena os valores do texto no formato de string\n",
    "arquivo = [] # Armazena os valores do texto no formato de lista\n",
    "listaGeral = [] # Armazena os valores a partir das transformações de listas de listas"
   ]
  },
  {
   "cell_type": "markdown",
   "metadata": {},
   "source": [
    "Chamando o arquivo txt no código pare leitura do mesmo."
   ]
  },
  {
   "cell_type": "code",
   "execution_count": 5,
   "metadata": {},
   "outputs": [],
   "source": [
    "with open('processoSeletivo.txt', encoding='utf-8') as ps:\n",
    "    \n",
    "    linhas = ps.readlines()\n",
    "    # print(linhas) "
   ]
  },
  {
   "cell_type": "markdown",
   "metadata": {},
   "source": [
    "Laço de repetição para concatenação do texto em string e algumas transformações para retirar caracteres desnecessários."
   ]
  },
  {
   "cell_type": "code",
   "execution_count": 6,
   "metadata": {},
   "outputs": [],
   "source": [
    "for valor in linhas: \n",
    "    \n",
    "    txt_string = txt_string + valor.replace('\\n','') + ' '\n",
    "    txt_string = txt_string.replace(',','')\n",
    "    txt_string = txt_string.replace(':','')\n",
    "# print(txt_string) "
   ]
  },
  {
   "cell_type": "markdown",
   "metadata": {},
   "source": [
    "Tratamento do valor armazenado na variável 'txt_string' transformando toda a string em palavras minúsculas e retirando colchetes que aparecem depois de utilizar a função lower.\n",
    "\n",
    "Além de armazenamento do resultado das transformações em uma lista na variável 'arquivo'"
   ]
  },
  {
   "cell_type": "code",
   "execution_count": 7,
   "metadata": {},
   "outputs": [],
   "source": [
    "txt_string = str(txt_string).lower()\n",
    "txt_string = txt_string.replace('[','') \n",
    "txt_string = txt_string.replace(']','')\n",
    "arquivo = [txt_string]\n",
    "# print(arquivo)"
   ]
  },
  {
   "cell_type": "markdown",
   "metadata": {},
   "source": [
    "Chamada das funções para apresentação dos resultados"
   ]
  },
  {
   "cell_type": "code",
   "execution_count": 8,
   "metadata": {},
   "outputs": [
    {
     "name": "stdout",
     "output_type": "stream",
     "text": [
      "A quantidade de candidatos a serem cadastrados é 36\n"
     ]
    }
   ],
   "source": [
    "participantes = quantidadeCandidatos(txt_string)\n",
    "\n",
    "print(participantes)"
   ]
  },
  {
   "cell_type": "code",
   "execution_count": 9,
   "metadata": {},
   "outputs": [],
   "source": [
    "listaGeral = split_list(arquivo, 'candidato(a)') \n",
    "\n",
    "# print(listaGeral)"
   ]
  },
  {
   "cell_type": "code",
   "execution_count": 10,
   "metadata": {},
   "outputs": [
    {
     "name": "stdout",
     "output_type": "stream",
     "text": [
      "A quantidade de Analista de Dados incritos é 15 e 10 deles tem as palavra chave que preenchem os requisitos da vaga\n",
      "        \n",
      "A quantidade de Cientistas de Dados incritos é 12 e 10 com as palavra chave que preenchem os requisitos da vaga\n"
     ]
    }
   ],
   "source": [
    "print(entrada(listaGeral))"
   ]
  }
 ],
 "metadata": {
  "kernelspec": {
   "display_name": "Python 3.10.5 64-bit (windows store)",
   "language": "python",
   "name": "python3"
  },
  "language_info": {
   "codemirror_mode": {
    "name": "ipython",
    "version": 3
   },
   "file_extension": ".py",
   "mimetype": "text/x-python",
   "name": "python",
   "nbconvert_exporter": "python",
   "pygments_lexer": "ipython3",
   "version": "3.10.5"
  },
  "orig_nbformat": 4,
  "vscode": {
   "interpreter": {
    "hash": "42dc4083fe0c9c14be1e8e39753f7838d2778a3010c9d326df567660c897d56f"
   }
  }
 },
 "nbformat": 4,
 "nbformat_minor": 2
}
